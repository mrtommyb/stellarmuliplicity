{
 "cells": [
  {
   "cell_type": "code",
   "execution_count": 1,
   "metadata": {
    "collapsed": true
   },
   "outputs": [],
   "source": [
    "from __future__ import division, print_function\n",
    "import numpy as np\n",
    "import pandas as pd\n",
    "import matplotlib.pyplot as plt\n",
    "from tqdm import tqdm\n",
    "\n",
    "%matplotlib inline"
   ]
  },
  {
   "cell_type": "code",
   "execution_count": 2,
   "metadata": {
    "collapsed": true
   },
   "outputs": [],
   "source": [
    "from sm_funcs import get_spectral_type\n",
    "import sm_funcs\n"
   ]
  },
  {
   "cell_type": "markdown",
   "metadata": {},
   "source": [
    "We have to simulation the stars and the planets that orbit those stars, so first we are going to make up a population of stars.\n",
    "\n",
    "The first thing to do is to get all the stars observed by Kepler, we can get this from the MAST.\n",
    "Then load the masses and then assign a one or fewer binary companions. Binary distributions is Raghavan et al. 2010.\n",
    "\n"
   ]
  },
  {
   "cell_type": "code",
   "execution_count": 3,
   "metadata": {
    "collapsed": false
   },
   "outputs": [],
   "source": [
    "keplerstellar = pd.read_csv('../data/kepler_stellar17.csv.gz', delimiter='|')\n",
    "allquarters = keplerstellar.st_quarters == 11111111111111111\n",
    "isGoodData = np.isfinite(keplerstellar.mass) & (keplerstellar.st_radius < 3.5)"
   ]
  },
  {
   "cell_type": "code",
   "execution_count": 4,
   "metadata": {
    "collapsed": false
   },
   "outputs": [],
   "source": [
    "# we want interpolate a relationship between temperate and absolute magnitude\n",
    "\n",
    "mamajek = pd.read_table('../data/EEM_dwarf_UBVIJHK_colors_Teff.txt', \n",
    "                        skiprows=20, delim_whitespace=True, skipfooter=440,\n",
    "                        engine='python', na_values=['...','....','.....'])\n",
    "mamajek.columns = [c.replace('-', '_') for c in mamajek.columns]\n",
    "\n",
    "\n",
    "mamajek.loc[:,'Mr'] =   - mamajek.loc[:,'Mv'] - mamajek.loc[:,'V_Rc']\n",
    "\n"
   ]
  },
  {
   "cell_type": "code",
   "execution_count": 5,
   "metadata": {
    "collapsed": false
   },
   "outputs": [],
   "source": [
    "# from Raghavan et al. 2010\n",
    "\n",
    "# orbital period distribution\n",
    "logPeriod = np.random.normal(5.03,2.28, size=keplerstellar.shape[0])\n",
    "\n",
    "#for OBAFMKMLT\n",
    "binaryProbability = {'O': 0.75, \n",
    "                      'B': 0.70, \n",
    "                      'A': 0.70, \n",
    "                      'F': 0.50,\n",
    "                      'G': 0.41,\n",
    "                      'K': 0.41,\n",
    "                      'M': 0.35,\n",
    "                      'L': 0.20,\n",
    "                      'T': 0.20,\n",
    "                      }\n",
    "\n",
    "# mass ratio can be approximated by a uniform\n",
    "# but it may be better estimated by distribution that increases toward higher number\n",
    "# so I'll use uniform in (e - e^(x)) / (e - 1)\n",
    "massRatio = (np.e-np.e**(np.random.uniform(size=keplerstellar.shape[0]))) / (np.e-1.0)\n",
    "mp = keplerstellar['mass'].copy()\n",
    "compMass = mp * massRatio\n",
    "\n",
    "# we need to companion mass to be in the stellar range, so > 0.08\n",
    "while np.any(compMass < 0.08):\n",
    "    nSmall = np.shape(compMass[compMass < 0.08])[0]\n",
    "    massRatio[compMass < 0.08] = (np.e-np.e**(np.random.uniform(size=nSmall))) / (np.e-1.0)\n",
    "    compMass[compMass < 0.08] = mp[compMass < 0.08] * massRatio[compMass < 0.08]\n"
   ]
  },
  {
   "cell_type": "markdown",
   "metadata": {},
   "source": [
    "Now we need to go through the catalog and assign a binary companion"
   ]
  },
  {
   "cell_type": "code",
   "execution_count": 6,
   "metadata": {
    "collapsed": false
   },
   "outputs": [
    {
     "name": "stderr",
     "output_type": "stream",
     "text": [
      "100%|██████████| 200038/200038 [00:06<00:00, 31537.80it/s]\n"
     ]
    }
   ],
   "source": [
    "# let's make some new columns that we'll need\n",
    "\n",
    "stype_arr = np.empty(keplerstellar.shape[0], dtype='str')\n",
    "isBinary_arr = np.empty(keplerstellar.shape[0], dtype='bool')\n",
    "\n",
    "for idx in tqdm(range(keplerstellar.shape[0])):\n",
    "    stype = get_spectral_type(keplerstellar['teff'][idx])\n",
    "    stype_arr[idx] = stype\n",
    "    isBinary_arr[idx] = binaryProbability[stype]  <  np.random.uniform()\n",
    "\n",
    "\n"
   ]
  },
  {
   "cell_type": "code",
   "execution_count": 7,
   "metadata": {
    "collapsed": false
   },
   "outputs": [],
   "source": [
    "# which star should the planet orbit\n",
    "# we'll say it's 50/50 unless the companion is an M-dwarf\n",
    "# let's say that the max mass of an M-dwarf is 0.55 Msun\n",
    "# and let's say that if it's an M-dwarf, the probability the planet's around a companion is 2.5/0.689\n",
    "\n",
    "orbitProb = np.where(compMass<=0.55, 1. - (0.689/2.5), 0.5)\n",
    "orbitsPrimary = np.where(np.random.uniform(size=keplerstellar.shape[0]) > orbitProb, True, False)\n"
   ]
  },
  {
   "cell_type": "code",
   "execution_count": 110,
   "metadata": {
    "collapsed": false
   },
   "outputs": [],
   "source": [
    "# it's a factor of a few hundred times faster to loop and add to the dataframe\n",
    "keplerstellar['stype'] = stype_arr\n",
    "keplerstellar['isBinary'] = isBinary_arr\n",
    "keplerstellar['massRatio'] = massRatio\n",
    "keplerstellar['period'] = np.e**logPeriod\n",
    "keplerstellar['compMass'] = compMass\n",
    "keplerstellar['orbitsPrimary'] = orbitsPrimary\n",
    "keplerstellar['hostMass'] = np.where((isBinary_arr & orbitsPrimary) | ~isBinary_arr, \n",
    "                                     keplerstellar.mass, compMass)\n"
   ]
  },
  {
   "cell_type": "code",
   "execution_count": 9,
   "metadata": {
    "collapsed": false
   },
   "outputs": [],
   "source": [
    "# now let's make an array that excludes things we don't want\n",
    "q = keplerstellar[allquarters & isGoodData]"
   ]
  },
  {
   "cell_type": "markdown",
   "metadata": {},
   "source": [
    "OK, now we need to start putting planets around these stars. We're going to use Fressin's catalog for all stars except M-dwarfs and use Dressing's number for M-dwarfs. \n",
    "\n",
    "For the time being we are going to make the assumption that every star has a planet"
   ]
  },
  {
   "cell_type": "code",
   "execution_count": 109,
   "metadata": {
    "collapsed": false
   },
   "outputs": [],
   "source": [
    "#some parameters we will need later\n",
    "\n",
    "# let's make them all transit\n",
    "# q.loc[:,'cosi'] = pd.Series(np.random.random(size=q.shape[0]),name='cosi')\n",
    "\n",
    "q.loc[:,'noise_level'] = sm_funcs.kepler_noise_6h(q.loc[:,'kepmag']) * np.sqrt(6)\n"
   ]
  },
  {
   "cell_type": "code",
   "execution_count": 11,
   "metadata": {
    "collapsed": false
   },
   "outputs": [],
   "source": [
    "# add planets\n",
    "# first draw planets\n",
    "\n",
    "mdwarfplanets = sm_funcs.Dressing15_select(q.shape[0])\n",
    "otherplanets = sm_funcs.Fressin13_select(q.shape[0])\n",
    "\n",
    "# then assign either a planet from Fressin or Dressing\n",
    "[planetRadius, planetPeriod] = np.where((q.stype == 'M') | ((q.compMass <=0.55) & q.isBinary), mdwarfplanets, otherplanets )\n",
    "\n"
   ]
  },
  {
   "cell_type": "code",
   "execution_count": 12,
   "metadata": {
    "collapsed": false
   },
   "outputs": [],
   "source": [
    "q.loc[:,'planetRadius'] = planetRadius\n",
    "q.loc[:,'planetPeriod'] = planetPeriod\n",
    "q.loc[:,'rprs'] = sm_funcs.get_rprs(planetRadius, q.hostMass)\n",
    "q.loc[:, 'ars'] = sm_funcs.per2ars(planetPeriod, q.mass, q.hostMass)\n",
    "\n",
    "# need a fudge here to stop a/r* < 1\n",
    "q.loc[:, 'ars'] = np.where(q.loc[:, 'ars'] < 1.0, 1.01, q.loc[:, 'ars'])\n",
    "\n",
    "q.loc[:, 'duration'] = sm_funcs.get_duration(planetPeriod, q.ars, rprs=q.rprs)"
   ]
  },
  {
   "cell_type": "code",
   "execution_count": 13,
   "metadata": {
    "collapsed": false
   },
   "outputs": [],
   "source": [
    "q.loc[:,'duration_correction'] = np.sqrt(q.duration * 24.) # correction for CDPP because transit dur != 1 hour\n",
    "q.loc[:,'transit_depth_undiluted']  = sm_funcs.get_transit_depth(q.planetRadius, q.hostMass)"
   ]
  },
  {
   "cell_type": "code",
   "execution_count": 80,
   "metadata": {
    "collapsed": false
   },
   "outputs": [
    {
     "name": "stderr",
     "output_type": "stream",
     "text": [
      "/Users/tom/.virtualenvs/p2/lib/python2.7/site-packages/ipykernel/__main__.py:21: SettingWithCopyWarning: \n",
      "A value is trying to be set on a copy of a slice from a DataFrame.\n",
      "Try using .loc[row_indexer,col_indexer] = value instead\n",
      "\n",
      "See the caveats in the documentation: http://pandas.pydata.org/pandas-docs/stable/indexing.html#indexing-view-versus-copy\n",
      "/Users/tom/.virtualenvs/p2/lib/python2.7/site-packages/ipykernel/__main__.py:22: SettingWithCopyWarning: \n",
      "A value is trying to be set on a copy of a slice from a DataFrame.\n",
      "Try using .loc[row_indexer,col_indexer] = value instead\n",
      "\n",
      "See the caveats in the documentation: http://pandas.pydata.org/pandas-docs/stable/indexing.html#indexing-view-versus-copy\n"
     ]
    }
   ],
   "source": [
    "# we need to go from undiluted transit depth to diluted transit depth\n",
    "# so we have deltaF / F1 and we want deltaF/(F1+F2)\n",
    "\n",
    "# so if rprs**0.5 = deltaF / F1\n",
    "# tm=tm+(1.0d0-tm)*dil-1.0d0\n",
    "# where dil is F1 / (F1+F2)\n",
    "\n",
    "# we should do this calculation in magnitude\n",
    "# so take the kepmag and estimate the kepmag for a companion\n",
    "\n",
    "m = np.isfinite(mamajek.loc[:,'Mr']) & np.isfinite(mamajek.loc[:,'Msun'])\n",
    "\n",
    "Mr_primary = np.interp(q.loc[:,'mass'],\n",
    "                       mamajek.loc[:,'Msun'][m][::-1], mamajek.loc[:,'Mr'][m][::-1], np.nan, np.nan)\n",
    "Mr_companion = np.interp(q.loc[:,'compMass'],\n",
    "                       mamajek.loc[:,'Msun'][m][::-1], mamajek.loc[:,'Mr'][m][::-1], np.nan, np.nan)\n",
    "\n",
    "f1 = 10**(-Mr_primary/2.5)\n",
    "f2 = 10**(-Mr_companion/2.5)\n",
    "dil = np.where(q.orbitsPrimary, f1/(f1+f2), f2/(f1+f2))\n",
    "q['dil'] = dil\n",
    "q['transit_depth_diluted'] = (q.loc[:,'transit_depth_undiluted'] -dil) * dil -1.0"
   ]
  },
  {
   "cell_type": "code",
   "execution_count": 81,
   "metadata": {
    "collapsed": false
   },
   "outputs": [
    {
     "data": {
      "text/plain": [
       "(0, 50000)"
      ]
     },
     "execution_count": 81,
     "metadata": {},
     "output_type": "execute_result"
    },
    {
     "data": {
      "image/png": "[encoded data removed]",
      "text/plain": [
       "<matplotlib.figure.Figure at 0x117669dd0>"
      ]
     },
     "metadata": {},
     "output_type": "display_data"
    }
   ],
   "source": [
    "plt.scatter(q.transit_depth_undiluted, q.transit_depth_diluted, c=q.teff, cmap='spectral',vmax=8000, s=1)\n",
    "plt.colorbar()\n",
    "plt.xlim(0,50000)\n",
    "plt.ylim(0,50000)"
   ]
  },
  {
   "cell_type": "code",
   "execution_count": 88,
   "metadata": {
    "collapsed": false
   },
   "outputs": [],
   "source": [
    "# finally, we need to build a detection model\n",
    "# the detection can be a simple SNR threshold, let's pick 8 sigma\n",
    "# so the probability of detection is if\n",
    "# SNR > 8\n",
    "# SNR = sqrt(ntransits) * duration_correction * transit_depth / noise\n",
    "keplerduration = 4.0 * 365.\n",
    "ntransits = np.around(keplerduration / q.planetPeriod )\n",
    "sigma_threshold = 8.0\n",
    "\n",
    "needed_for_detection_diluted = (q.transit_depth_diluted * q.duration_correction *\n",
    "                    np.sqrt(ntransits)) / sigma_threshold\n",
    "detected_diluted = q.noise_level < needed_for_detection_diluted\n",
    "\n",
    "needed_for_detection_undiluted = (q.transit_depth_undiluted * q.duration_correction *\n",
    "                    np.sqrt(ntransits)) / sigma_threshold\n",
    "detected_undiluted = q.noise_level < needed_for_detection_undiluted"
   ]
  },
  {
   "cell_type": "code",
   "execution_count": 89,
   "metadata": {
    "collapsed": false
   },
   "outputs": [
    {
     "name": "stdout",
     "output_type": "stream",
     "text": [
      "(66306,)\n",
      "(92260,)\n"
     ]
    }
   ],
   "source": [
    "print(np.nonzero(detected_diluted)[0].shape)\n",
    "print(np.nonzero(detected_undiluted)[0].shape)"
   ]
  },
  {
   "cell_type": "code",
   "execution_count": 131,
   "metadata": {
    "collapsed": false
   },
   "outputs": [
    {
     "name": "stderr",
     "output_type": "stream",
     "text": [
      "/Users/tom/.virtualenvs/p2/lib/python2.7/site-packages/ipykernel/__main__.py:3: RuntimeWarning: invalid value encountered in sqrt\n",
      "  app.launch_new_instance()\n"
     ]
    },
    {
     "data": {
      "image/png": "[encoded data removed]",
      "text/plain": [
       "<matplotlib.figure.Figure at 0x1208e3790>"
      ]
     },
     "metadata": {},
     "output_type": "display_data"
    }
   ],
   "source": [
    "# !!!! this needs to be changed\n",
    "# becuse I have assumed that stellar radius == stellar mass\n",
    "# I need to calculate a radius of the companion\n",
    "\n",
    "fig = plt.figure(figsize=[12,9])\n",
    "\n",
    "plt.hist(np.sqrt(q.transit_depth_diluted* 1.E-6)[detected_diluted] * q.mass[detected_diluted] / 0.009155, \n",
    "         bins=np.arange(0,10,1), \n",
    "         histtype='step', lw=3, color='purple',#, normed=True\n",
    "         label='including binaries',\n",
    "        )\n",
    "plt.hist(np.sqrt(q.transit_depth_undiluted* 1.E-6)[detected_undiluted][q.orbitsPrimary] * q.hostMass[detected_undiluted][q.orbitsPrimary] / 0.009155, \n",
    "         bins=np.arange(0,10,1),\n",
    "         histtype='step', lw=3, color='orange',#, normed=True\n",
    "         label='no binaries',\n",
    "        )\n",
    "plt.legend()\n",
    "plt.xlabel('Planet Radius (R$_\\oplus$)')\n",
    "plt.ylabel('Relative planet number')\n",
    "\n",
    "plt.minorticks_on()"
   ]
  },
  {
   "cell_type": "code",
   "execution_count": 121,
   "metadata": {
    "collapsed": false
   },
   "outputs": [
    {
     "data": {
      "text/plain": [
       "(array([  4.99000000e+02,   7.69700000e+03,   4.73200000e+04,\n",
       "          3.75770000e+04,   7.03100000e+03,   1.66600000e+03,\n",
       "          8.79000000e+02,   2.37000000e+02,   5.50000000e+01,\n",
       "          3.60000000e+01]),\n",
       " array([  10.26761333,   42.88367013,   75.49972693,  108.11578372,\n",
       "         140.73184052,  173.34789732,  205.96395412,  238.58001092,\n",
       "         271.19606772,  303.81212452,  336.42818132]),\n",
       " <a list of 10 Patch objects>)"
      ]
     },
     "execution_count": 121,
     "metadata": {},
     "output_type": "execute_result"
    },
    {
     "data": {
      "image/png": "[encoded data removed]",
      "text/plain": [
       "<matplotlib.figure.Figure at 0x11e6e0dd0>"
      ]
     },
     "metadata": {},
     "output_type": "display_data"
    }
   ],
   "source": [
    "plt.hist(np.sqrt(q.transit_depth_diluted* 1.E-6)[detected_diluted] * q.mass / 0.009155)"
   ]
  },
  {
   "cell_type": "code",
   "execution_count": null,
   "metadata": {
    "collapsed": false
   },
   "outputs": [],
   "source": []
  },
  {
   "cell_type": "code",
   "execution_count": null,
   "metadata": {
    "collapsed": false
   },
   "outputs": [],
   "source": []
  },
  {
   "cell_type": "code",
   "execution_count": null,
   "metadata": {
    "collapsed": false
   },
   "outputs": [],
   "source": []
  },
  {
   "cell_type": "code",
   "execution_count": null,
   "metadata": {
    "collapsed": false
   },
   "outputs": [],
   "source": []
  },
  {
   "cell_type": "code",
   "execution_count": null,
   "metadata": {
    "collapsed": true
   },
   "outputs": [],
   "source": []
  }
 ],
 "metadata": {
  "kernelspec": {
   "display_name": "Python 2",
   "language": "python",
   "name": "python2"
  },
  "language_info": {
   "codemirror_mode": {
    "name": "ipython",
    "version": 2
   },
   "file_extension": ".py",
   "mimetype": "text/x-python",
   "name": "python",
   "nbconvert_exporter": "python",
   "pygments_lexer": "ipython2",
   "version": "2.7.11"
  }
 },
 "nbformat": 4,
 "nbformat_minor": 0
}
