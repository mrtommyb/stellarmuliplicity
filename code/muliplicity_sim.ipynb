{
 "cells": [
  {
   "cell_type": "code",
   "execution_count": 33,
   "metadata": {
    "collapsed": true
   },
   "outputs": [],
   "source": [
    "from __future__ import division, print_function\n",
    "import numpy as np\n",
    "import pandas as pd\n",
    "import matplotlib.pyplot as plt\n",
    "from tqdm import tqdm\n",
    "\n",
    "%matplotlib inline"
   ]
  },
  {
   "cell_type": "code",
   "execution_count": 34,
   "metadata": {
    "collapsed": true
   },
   "outputs": [],
   "source": [
    "from sm_funcs import get_spectral_type\n",
    "import sm_funcs\n"
   ]
  },
  {
   "cell_type": "markdown",
   "metadata": {},
   "source": [
    "We have to simulation the stars and the planets that orbit those stars, so first we are going to make up a population of stars.\n",
    "\n",
    "The first thing to do is to get all the stars observed by Kepler, we can get this from the MAST.\n",
    "Then load the masses and then assign a one or fewer binary companions. Binary distributions is Raghavan et al. 2010.\n",
    "\n"
   ]
  },
  {
   "cell_type": "code",
   "execution_count": 35,
   "metadata": {
    "collapsed": false
   },
   "outputs": [],
   "source": [
    "keplerstellar = pd.read_csv('../data/kepler_stellar17.csv.gz', delimiter='|')\n",
    "allquarters = keplerstellar.st_quarters == 11111111111111111\n",
    "isGoodData = np.isfinite(keplerstellar.mass) * (keplerstellar.st_radius < 3.5)"
   ]
  },
  {
   "cell_type": "code",
   "execution_count": 36,
   "metadata": {
    "collapsed": false
   },
   "outputs": [],
   "source": [
    "# from Raghavan et al. 2010\n",
    "\n",
    "# orbital period distribution\n",
    "logPeriod = np.random.normal(5.03,2.28, size=keplerstellar.shape[0])\n",
    "\n",
    "#for OBAFMKMLT\n",
    "binaryProbability = {'O': 0.75, \n",
    "                      'B': 0.70, \n",
    "                      'A': 0.70, \n",
    "                      'F': 0.50,\n",
    "                      'G': 0.41,\n",
    "                      'K': 0.41,\n",
    "                      'M': 0.35,\n",
    "                      'L': 0.20,\n",
    "                      'T': 0.20,\n",
    "                      }\n",
    "\n",
    "# mass ratio can be approximated by a uniform\n",
    "# but it may be better estimated by distribution that increases toward higher number\n",
    "# so I'll use uniform in (e - e^(x)) / (e - 1)\n",
    "massRatio = (np.e-np.e**(np.random.uniform(size=keplerstellar.shape[0]))) / (np.e-1.0)\n",
    "compMass = keplerstellar.mass * massRatio"
   ]
  },
  {
   "cell_type": "markdown",
   "metadata": {},
   "source": [
    "Now we need to go through the catalog and assign a binary companion"
   ]
  },
  {
   "cell_type": "code",
   "execution_count": 37,
   "metadata": {
    "collapsed": false
   },
   "outputs": [
    {
     "name": "stderr",
     "output_type": "stream",
     "text": [
      "100%|██████████| 200038/200038 [00:06<00:00, 32182.47it/s]\n"
     ]
    }
   ],
   "source": [
    "# let's make some new columns that we'll need\n",
    "\n",
    "stype_arr = np.empty(keplerstellar.shape[0], dtype='str')\n",
    "isBinary_arr = np.empty(keplerstellar.shape[0], dtype='bool')\n",
    "\n",
    "for idx in tqdm(range(keplerstellar.shape[0])):\n",
    "    stype = get_spectral_type(keplerstellar['teff'][idx])\n",
    "    stype_arr[idx] = stype\n",
    "    isBinary_arr[idx] = binaryProbability[stype]  <  np.random.uniform()\n",
    "\n",
    "\n"
   ]
  },
  {
   "cell_type": "code",
   "execution_count": 38,
   "metadata": {
    "collapsed": false
   },
   "outputs": [],
   "source": [
    "# which star should the planet orbit\n",
    "# we'll say it's 50/50 unless the companion is an M-dwarf\n",
    "# let's say that the max mass of an M-dwarf is 0.55 Msun\n",
    "# and let's say that if it's an M-dwarf, the probability the planet's around a companion is 2.5/0.689\n",
    "\n",
    "orbitProb = np.where(compMass<=0.55, 1. - (0.689/2.5), 0.5)\n",
    "orbitsPrimary = np.where(np.random.uniform(size=keplerstellar.shape[0]) > orbitProb, True, False)\n"
   ]
  },
  {
   "cell_type": "code",
   "execution_count": 39,
   "metadata": {
    "collapsed": false
   },
   "outputs": [],
   "source": [
    "# it's a factor of a few hundred times faster to loop and add to the dataframe\n",
    "keplerstellar['stype'] = stype_arr\n",
    "keplerstellar['isBinary'] = isBinary_arr\n",
    "keplerstellar['massRatio'] = massRatio\n",
    "keplerstellar['period'] = np.e**logPeriod\n",
    "keplerstellar['compMass'] = compMass\n",
    "keplerstellar['orbitsPrimary'] = orbitsPrimary\n",
    "keplerstellar['hostMass'] = np.where((isBinary_arr & orbitsPrimary) | ~isBinary_arr, \n",
    "                                     keplerstellar.mass, compMass)"
   ]
  },
  {
   "cell_type": "code",
   "execution_count": 40,
   "metadata": {
    "collapsed": false
   },
   "outputs": [],
   "source": [
    "# now let's make an array that excludes things we don't want\n",
    "q = keplerstellar[allquarters & isGoodData]"
   ]
  },
  {
   "cell_type": "markdown",
   "metadata": {},
   "source": [
    "OK, now we need to start putting planets around these stars. We're going to use Fressin's catalog for all stars except M-dwarfs and use Dressing's number for M-dwarfs. \n",
    "\n",
    "For the time being we are going to make the assumption that every star has a planet"
   ]
  },
  {
   "cell_type": "code",
   "execution_count": 41,
   "metadata": {
    "collapsed": false
   },
   "outputs": [],
   "source": [
    "#some parameters we will need later\n",
    "\n",
    "# let's make them all transit\n",
    "# q.loc[:,'cosi'] = pd.Series(np.random.random(size=q.shape[0]),name='cosi')\n",
    "mag = q.loc[:,'kepmag']\n",
    "q.loc[:,'noise_level'] = sm_funcs.kepler_noise_6h(mag) * np.sqrt(6)\n"
   ]
  },
  {
   "cell_type": "code",
   "execution_count": 45,
   "metadata": {
    "collapsed": false
   },
   "outputs": [],
   "source": [
    "# add planets\n",
    "# first draw planets\n",
    "\n",
    "mdwarfplanets = sm_funcs.Dressing15_select(q.shape[0])\n",
    "otherplanets = sm_funcs.Fressin13_select(q.shape[0])\n",
    "\n",
    "[planetRadius, planetPeriod] = np.where((q.stype == 'M') | ((q.compMass <=0.55) & q.isBinary), mdwarfplanets, otherplanets )\n",
    "\n"
   ]
  },
  {
   "cell_type": "code",
   "execution_count": 46,
   "metadata": {
    "collapsed": false
   },
   "outputs": [],
   "source": [
    "q.loc[:,'planetRadius'] = planetRadius\n",
    "q.loc[:,'planetPeriod'] = planetPeriod\n",
    "q.loc[:,'rprs'] = sm_funcs.get_rprs(planetRadius, q.hostMass)\n",
    "q.loc[:, 'ars'] = sm_funcs.per2ars(planetPeriod, q.mass, q.hostMass)\n",
    "\n",
    "# need a fudge here to stop a/r* < 1\n",
    "q.loc[:, 'ars'] = np.where(q.loc[:, 'ars'] < 1.0, 1.01, q.loc[:, 'ars'])\n",
    "\n",
    "q.loc[:, 'duration'] = sm_funcs.get_duration(planetPeriod, q.ars, rprs=q.rprs)"
   ]
  },
  {
   "cell_type": "code",
   "execution_count": 47,
   "metadata": {
    "collapsed": false
   },
   "outputs": [
    {
     "name": "stderr",
     "output_type": "stream",
     "text": [
      "/Users/tom/.virtualenvs/p2/lib/python2.7/site-packages/ipykernel/__main__.py:2: SettingWithCopyWarning: \n",
      "A value is trying to be set on a copy of a slice from a DataFrame.\n",
      "Try using .loc[row_indexer,col_indexer] = value instead\n",
      "\n",
      "See the caveats in the documentation: http://pandas.pydata.org/pandas-docs/stable/indexing.html#indexing-view-versus-copy\n",
      "  from ipykernel import kernelapp as app\n"
     ]
    }
   ],
   "source": [
    "q.loc[:,'duration_correction'] = np.sqrt(q.duration * 24.) # correction for CDPP because transit dur != 1 hour\n",
    "q['transit_depth_undiluted']  = sm_funcs.get_transit_depth(q.planetRadius, q.hostMass)"
   ]
  },
  {
   "cell_type": "code",
   "execution_count": 53,
   "metadata": {
    "collapsed": false
   },
   "outputs": [
    {
     "data": {
      "image/png": "[encoded data removed]",
      "text/plain": [
       "<matplotlib.figure.Figure at 0x113492050>"
      ]
     },
     "metadata": {},
     "output_type": "display_data"
    }
   ],
   "source": [
    "q['transit_depth_diluted'] = "
   ]
  },
  {
   "cell_type": "code",
   "execution_count": 37,
   "metadata": {
    "collapsed": false
   },
   "outputs": [],
   "source": [
    "def powerlaw(x,a,b,c):\n",
    "    return a*(x**b)+c"
   ]
  },
  {
   "cell_type": "code",
   "execution_count": 38,
   "metadata": {
    "collapsed": true
   },
   "outputs": [],
   "source": [
    "kp_pars = [8.99783121e-12,   1.10726939e+01,   1.06404927e+01]"
   ]
  },
  {
   "cell_type": "code",
   "execution_count": 43,
   "metadata": {
    "collapsed": false
   },
   "outputs": [
    {
     "data": {
      "text/plain": [
       "[<matplotlib.lines.Line2D at 0x10c52df50>]"
      ]
     },
     "execution_count": 43,
     "metadata": {},
     "output_type": "execute_result"
    },
    {
     "data": {
      "image/png": "[encoded data removed]",
      "text/plain": [
       "<matplotlib.figure.Figure at 0x10b648550>"
      ]
     },
     "metadata": {},
     "output_type": "display_data"
    }
   ],
   "source": [
    "x = np.arange(7,14,0.1)\n",
    "plt.plot(x, powerlaw(x, *kp_pars))\n"
   ]
  },
  {
   "cell_type": "code",
   "execution_count": 35,
   "metadata": {
    "collapsed": false
   },
   "outputs": [
    {
     "data": {
      "image/png": "[encoded data removed]",
      "text/plain": [
       "<matplotlib.figure.Figure at 0x1156abc90>"
      ]
     },
     "metadata": {},
     "output_type": "display_data"
    }
   ],
   "source": [
    "bins = np.arange(0,2,0.01)\n",
    "\n",
    "\n",
    "#plt.hist(q.mass[q.stype != 'M'], bins = bins)\n",
    "plt.hist(q.mass[q.stype == 'M'], bins = bins)\n",
    "\n",
    "plt.xlim(0,0.6)\n",
    "plt.minorticks_on()"
   ]
  },
  {
   "cell_type": "code",
   "execution_count": 52,
   "metadata": {
    "collapsed": false
   },
   "outputs": [
    {
     "data": {
      "text/plain": [
       "(0.72440000000000004, True)"
      ]
     },
     "execution_count": 52,
     "metadata": {},
     "output_type": "execute_result"
    }
   ],
   "source": [
    "orbitProb[2], orbitsPrimary[2]"
   ]
  },
  {
   "cell_type": "code",
   "execution_count": 34,
   "metadata": {
    "collapsed": false
   },
   "outputs": [
    {
     "data": {
      "text/plain": [
       "Index([u'kepid', u'tm_designation', u'teff', u'teff_err1', u'teff_err2',\n",
       "       u'logg', u'logg_err1', u'logg_err2', u'feh', u'feh_err1', u'feh_err2',\n",
       "       u'mass', u'mass_err1', u'mass_err2', u'st_radius', u'radius_err1',\n",
       "       u'radius_err2', u'dens', u'dens_err1', u'dens_err2', u'prov_sec',\n",
       "       u'kepmag', u'dist', u'dist_err1', u'dist_err2', u'nconfp', u'nkoi',\n",
       "       u'ntce', u'datalink_dvr', u'st_delivname', u'st_vet_date_str',\n",
       "       u'degree_ra', u'degree_dec', u'st_quarters', u'teff_prov', u'logg_prov',\n",
       "       u'feh_prov', u'jmag', u'jmag_err', u'hmag', u'hmag_err', u'kmag',\n",
       "       u'kmag_err', u'dutycycle', u'dataspan', u'mesthres01p5',\n",
       "       u'mesthres02p0', u'mesthres02p5', u'mesthres03p0', u'mesthres03p5',\n",
       "       u'mesthres04p5', u'mesthres05p0', u'mesthres06p0', u'mesthres07p5',\n",
       "       u'mesthres09p0', u'mesthres10p5', u'mesthres12p0', u'mesthres12p5',\n",
       "       u'mesthres15p0', u'rrmscdpp01p5', u'rrmscdpp02p0', u'rrmscdpp02p5',\n",
       "       u'rrmscdpp03p0', u'rrmscdpp03p5', u'rrmscdpp04p5', u'rrmscdpp05p0',\n",
       "       u'rrmscdpp06p0', u'rrmscdpp07p5', u'rrmscdpp09p0', u'rrmscdpp10p5',\n",
       "       u'rrmscdpp12p0', u'rrmscdpp12p5', u'rrmscdpp15p0', u'av', u'av_err1',\n",
       "       u'av_err2', u'stype', u'isBinary', u'massRatio', u'period', u'compMass',\n",
       "       u'orbitsPrimary', u'noise_level', u'planetRadius', u'planetPeriod'],\n",
       "      dtype='object')"
      ]
     },
     "execution_count": 34,
     "metadata": {},
     "output_type": "execute_result"
    }
   ],
   "source": [
    "q.columns"
   ]
  },
  {
   "cell_type": "code",
   "execution_count": 36,
   "metadata": {
    "collapsed": false
   },
   "outputs": [
    {
     "data": {
      "text/plain": [
       "0         None\n",
       "1         None\n",
       "2         None\n",
       "3         None\n",
       "4         None\n",
       "5         None\n",
       "6         None\n",
       "8         None\n",
       "9         None\n",
       "10        None\n",
       "11        None\n",
       "12        None\n",
       "13        None\n",
       "14        None\n",
       "15        None\n",
       "17        None\n",
       "20        None\n",
       "22        None\n",
       "23        None\n",
       "26        None\n",
       "28        None\n",
       "29        None\n",
       "30        None\n",
       "31        None\n",
       "35        None\n",
       "36        None\n",
       "38        None\n",
       "39        None\n",
       "42        None\n",
       "43        None\n",
       "          ... \n",
       "199944    None\n",
       "199945    None\n",
       "199946    None\n",
       "199947    None\n",
       "199948    None\n",
       "199949    None\n",
       "199950    None\n",
       "199951    None\n",
       "199952    None\n",
       "199953    None\n",
       "199955    None\n",
       "199956    None\n",
       "199957    None\n",
       "199958    None\n",
       "199960    None\n",
       "199961    None\n",
       "199963    None\n",
       "199964    None\n",
       "199966    None\n",
       "199967    None\n",
       "199969    None\n",
       "199971    None\n",
       "199972    None\n",
       "199973    None\n",
       "199976    None\n",
       "199977    None\n",
       "199978    None\n",
       "199984    None\n",
       "199985    None\n",
       "199986    None\n",
       "Name: duration, dtype: object"
      ]
     },
     "execution_count": 36,
     "metadata": {},
     "output_type": "execute_result"
    }
   ],
   "source": [
    "q.duration"
   ]
  },
  {
   "cell_type": "code",
   "execution_count": 32,
   "metadata": {
    "collapsed": false
   },
   "outputs": [
    {
     "ename": "ValueError",
     "evalue": "max must be larger than min in range parameter.",
     "output_type": "error",
     "traceback": [
      "\u001b[0;31m---------------------------------------------------------------------------\u001b[0m",
      "\u001b[0;31mValueError\u001b[0m                                Traceback (most recent call last)",
      "\u001b[0;32m<ipython-input-32-55a2033af640>\u001b[0m in \u001b[0;36m<module>\u001b[0;34m()\u001b[0m\n\u001b[0;32m----> 1\u001b[0;31m \u001b[0mplt\u001b[0m\u001b[0;34m.\u001b[0m\u001b[0mhist\u001b[0m\u001b[0;34m(\u001b[0m\u001b[0mkeplerstellar\u001b[0m\u001b[0;34m[\u001b[0m\u001b[0;34m'hostMass'\u001b[0m\u001b[0;34m]\u001b[0m\u001b[0;34m)\u001b[0m\u001b[0;34m\u001b[0m\u001b[0m\n\u001b[0m",
      "\u001b[0;32m/Users/tom/.virtualenvs/p2/lib/python2.7/site-packages/matplotlib/pyplot.pyc\u001b[0m in \u001b[0;36mhist\u001b[0;34m(x, bins, range, normed, weights, cumulative, bottom, histtype, align, orientation, rwidth, log, color, label, stacked, hold, data, **kwargs)\u001b[0m\n\u001b[1;32m   3080\u001b[0m                       \u001b[0mhisttype\u001b[0m\u001b[0;34m=\u001b[0m\u001b[0mhisttype\u001b[0m\u001b[0;34m,\u001b[0m \u001b[0malign\u001b[0m\u001b[0;34m=\u001b[0m\u001b[0malign\u001b[0m\u001b[0;34m,\u001b[0m \u001b[0morientation\u001b[0m\u001b[0;34m=\u001b[0m\u001b[0morientation\u001b[0m\u001b[0;34m,\u001b[0m\u001b[0;34m\u001b[0m\u001b[0m\n\u001b[1;32m   3081\u001b[0m                       \u001b[0mrwidth\u001b[0m\u001b[0;34m=\u001b[0m\u001b[0mrwidth\u001b[0m\u001b[0;34m,\u001b[0m \u001b[0mlog\u001b[0m\u001b[0;34m=\u001b[0m\u001b[0mlog\u001b[0m\u001b[0;34m,\u001b[0m \u001b[0mcolor\u001b[0m\u001b[0;34m=\u001b[0m\u001b[0mcolor\u001b[0m\u001b[0;34m,\u001b[0m \u001b[0mlabel\u001b[0m\u001b[0;34m=\u001b[0m\u001b[0mlabel\u001b[0m\u001b[0;34m,\u001b[0m\u001b[0;34m\u001b[0m\u001b[0m\n\u001b[0;32m-> 3082\u001b[0;31m                       stacked=stacked, data=data, **kwargs)\n\u001b[0m\u001b[1;32m   3083\u001b[0m     \u001b[0;32mfinally\u001b[0m\u001b[0;34m:\u001b[0m\u001b[0;34m\u001b[0m\u001b[0m\n\u001b[1;32m   3084\u001b[0m         \u001b[0max\u001b[0m\u001b[0;34m.\u001b[0m\u001b[0m_hold\u001b[0m \u001b[0;34m=\u001b[0m \u001b[0mwashold\u001b[0m\u001b[0;34m\u001b[0m\u001b[0m\n",
      "\u001b[0;32m/Users/tom/.virtualenvs/p2/lib/python2.7/site-packages/matplotlib/__init__.pyc\u001b[0m in \u001b[0;36minner\u001b[0;34m(ax, *args, **kwargs)\u001b[0m\n\u001b[1;32m   1890\u001b[0m                     warnings.warn(msg % (label_namer, func.__name__),\n\u001b[1;32m   1891\u001b[0m                                   RuntimeWarning, stacklevel=2)\n\u001b[0;32m-> 1892\u001b[0;31m             \u001b[0;32mreturn\u001b[0m \u001b[0mfunc\u001b[0m\u001b[0;34m(\u001b[0m\u001b[0max\u001b[0m\u001b[0;34m,\u001b[0m \u001b[0;34m*\u001b[0m\u001b[0margs\u001b[0m\u001b[0;34m,\u001b[0m \u001b[0;34m**\u001b[0m\u001b[0mkwargs\u001b[0m\u001b[0;34m)\u001b[0m\u001b[0;34m\u001b[0m\u001b[0m\n\u001b[0m\u001b[1;32m   1893\u001b[0m         \u001b[0mpre_doc\u001b[0m \u001b[0;34m=\u001b[0m \u001b[0minner\u001b[0m\u001b[0;34m.\u001b[0m\u001b[0m__doc__\u001b[0m\u001b[0;34m\u001b[0m\u001b[0m\n\u001b[1;32m   1894\u001b[0m         \u001b[0;32mif\u001b[0m \u001b[0mpre_doc\u001b[0m \u001b[0;32mis\u001b[0m \u001b[0mNone\u001b[0m\u001b[0;34m:\u001b[0m\u001b[0;34m\u001b[0m\u001b[0m\n",
      "\u001b[0;32m/Users/tom/.virtualenvs/p2/lib/python2.7/site-packages/matplotlib/axes/_axes.pyc\u001b[0m in \u001b[0;36mhist\u001b[0;34m(self, x, bins, range, normed, weights, cumulative, bottom, histtype, align, orientation, rwidth, log, color, label, stacked, **kwargs)\u001b[0m\n\u001b[1;32m   6190\u001b[0m             \u001b[0;31m# this will automatically overwrite bins,\u001b[0m\u001b[0;34m\u001b[0m\u001b[0;34m\u001b[0m\u001b[0m\n\u001b[1;32m   6191\u001b[0m             \u001b[0;31m# so that each histogram uses the same bins\u001b[0m\u001b[0;34m\u001b[0m\u001b[0;34m\u001b[0m\u001b[0m\n\u001b[0;32m-> 6192\u001b[0;31m             \u001b[0mm\u001b[0m\u001b[0;34m,\u001b[0m \u001b[0mbins\u001b[0m \u001b[0;34m=\u001b[0m \u001b[0mnp\u001b[0m\u001b[0;34m.\u001b[0m\u001b[0mhistogram\u001b[0m\u001b[0;34m(\u001b[0m\u001b[0mx\u001b[0m\u001b[0;34m[\u001b[0m\u001b[0mi\u001b[0m\u001b[0;34m]\u001b[0m\u001b[0;34m,\u001b[0m \u001b[0mbins\u001b[0m\u001b[0;34m,\u001b[0m \u001b[0mweights\u001b[0m\u001b[0;34m=\u001b[0m\u001b[0mw\u001b[0m\u001b[0;34m[\u001b[0m\u001b[0mi\u001b[0m\u001b[0;34m]\u001b[0m\u001b[0;34m,\u001b[0m \u001b[0;34m**\u001b[0m\u001b[0mhist_kwargs\u001b[0m\u001b[0;34m)\u001b[0m\u001b[0;34m\u001b[0m\u001b[0m\n\u001b[0m\u001b[1;32m   6193\u001b[0m             \u001b[0mm\u001b[0m \u001b[0;34m=\u001b[0m \u001b[0mm\u001b[0m\u001b[0;34m.\u001b[0m\u001b[0mastype\u001b[0m\u001b[0;34m(\u001b[0m\u001b[0mfloat\u001b[0m\u001b[0;34m)\u001b[0m  \u001b[0;31m# causes problems later if it's an int\u001b[0m\u001b[0;34m\u001b[0m\u001b[0m\n\u001b[1;32m   6194\u001b[0m             \u001b[0;32mif\u001b[0m \u001b[0mmlast\u001b[0m \u001b[0;32mis\u001b[0m \u001b[0mNone\u001b[0m\u001b[0;34m:\u001b[0m\u001b[0;34m\u001b[0m\u001b[0m\n",
      "\u001b[0;32m/Users/tom/.virtualenvs/p2/lib/python2.7/site-packages/numpy/lib/function_base.pyc\u001b[0m in \u001b[0;36mhistogram\u001b[0;34m(a, bins, range, normed, weights, density)\u001b[0m\n\u001b[1;32m    664\u001b[0m     \u001b[0;32mif\u001b[0m \u001b[0mmn\u001b[0m \u001b[0;34m>\u001b[0m \u001b[0mmx\u001b[0m\u001b[0;34m:\u001b[0m\u001b[0;34m\u001b[0m\u001b[0m\n\u001b[1;32m    665\u001b[0m         raise ValueError(\n\u001b[0;32m--> 666\u001b[0;31m             'max must be larger than min in range parameter.')\n\u001b[0m\u001b[1;32m    667\u001b[0m     \u001b[0;32mif\u001b[0m \u001b[0;32mnot\u001b[0m \u001b[0mnp\u001b[0m\u001b[0;34m.\u001b[0m\u001b[0mall\u001b[0m\u001b[0;34m(\u001b[0m\u001b[0mnp\u001b[0m\u001b[0;34m.\u001b[0m\u001b[0misfinite\u001b[0m\u001b[0;34m(\u001b[0m\u001b[0;34m[\u001b[0m\u001b[0mmn\u001b[0m\u001b[0;34m,\u001b[0m \u001b[0mmx\u001b[0m\u001b[0;34m]\u001b[0m\u001b[0;34m)\u001b[0m\u001b[0;34m)\u001b[0m\u001b[0;34m:\u001b[0m\u001b[0;34m\u001b[0m\u001b[0m\n\u001b[1;32m    668\u001b[0m         raise ValueError(\n",
      "\u001b[0;31mValueError\u001b[0m: max must be larger than min in range parameter."
     ]
    },
    {
     "data": {
      "image/png": "[encoded data removed]",
      "text/plain": [
       "<matplotlib.figure.Figure at 0x1102980d0>"
      ]
     },
     "metadata": {},
     "output_type": "display_data"
    }
   ],
   "source": [
    "plt.hist(keplerstellar['hostMass'])"
   ]
  },
  {
   "cell_type": "code",
   "execution_count": null,
   "metadata": {
    "collapsed": true
   },
   "outputs": [],
   "source": []
  }
 ],
 "metadata": {
  "kernelspec": {
   "display_name": "Python 2",
   "language": "python",
   "name": "python2"
  },
  "language_info": {
   "codemirror_mode": {
    "name": "ipython",
    "version": 2
   },
   "file_extension": ".py",
   "mimetype": "text/x-python",
   "name": "python",
   "nbconvert_exporter": "python",
   "pygments_lexer": "ipython2",
   "version": "2.7.11"
  }
 },
 "nbformat": 4,
 "nbformat_minor": 0
}
