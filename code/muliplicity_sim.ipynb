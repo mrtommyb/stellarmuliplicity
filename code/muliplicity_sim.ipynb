{
 "cells": [
  {
   "cell_type": "code",
   "execution_count": 1,
   "metadata": {
    "collapsed": true
   },
   "outputs": [],
   "source": [
    "from __future__ import division, print_function\n",
    "import numpy as np\n",
    "import pandas as pd\n",
    "import matplotlib.pyplot as plt\n",
    "from tqdm import tqdm\n",
    "\n",
    "%matplotlib inline"
   ]
  },
  {
   "cell_type": "code",
   "execution_count": 2,
   "metadata": {
    "collapsed": true
   },
   "outputs": [],
   "source": [
    "from sm_funcs import get_spectral_type\n",
    "import sm_funcs\n"
   ]
  },
  {
   "cell_type": "markdown",
   "metadata": {},
   "source": [
    "We have to simulation the stars and the planets that orbit those stars, so first we are going to make up a population of stars.\n",
    "\n",
    "The first thing to do is to get all the stars observed by Kepler, we can get this from the MAST.\n",
    "Then load the masses and then assign a one or fewer binary companions. Binary distributions is Raghavan et al. 2010.\n",
    "\n"
   ]
  },
  {
   "cell_type": "code",
   "execution_count": 3,
   "metadata": {
    "collapsed": false
   },
   "outputs": [],
   "source": [
    "keplerstellar = pd.read_csv('../data/kepler_stellar17.csv.gz', delimiter='|')\n",
    "allquarters = keplerstellar.st_quarters == 11111111111111111\n",
    "isGoodData = np.isfinite(keplerstellar.mass) & (keplerstellar.st_radius < 3.5)"
   ]
  },
  {
   "cell_type": "code",
   "execution_count": 4,
   "metadata": {
    "collapsed": false
   },
   "outputs": [],
   "source": [
    "# we want interpolate a relationship between temperate and absolute magnitude\n",
    "\n",
    "mamajek = pd.read_table('../data/EEM_dwarf_UBVIJHK_colors_Teff.txt', \n",
    "                        skiprows=20, delim_whitespace=True, skipfooter=440,\n",
    "                        engine='python', na_values=['...','....','.....'])\n",
    "mamajek.columns = [c.replace('-', '_') for c in mamajek.columns]\n",
    "\n",
    "\n",
    "mamajek.loc[:,'Mr'] =   - mamajek.loc[:,'Mv'] - mamajek.loc[:,'V_Rc']\n",
    "\n"
   ]
  },
  {
   "cell_type": "code",
   "execution_count": 5,
   "metadata": {
    "collapsed": false
   },
   "outputs": [],
   "source": [
    "# from Raghavan et al. 2010\n",
    "\n",
    "# orbital period distribution\n",
    "logPeriod = np.random.normal(5.03,2.28, size=keplerstellar.shape[0])\n",
    "\n",
    "#for OBAFMKMLT\n",
    "binaryProbability = {'O': 0.75, \n",
    "                      'B': 0.70, \n",
    "                      'A': 0.70, \n",
    "                      'F': 0.50,\n",
    "                      'G': 0.41,\n",
    "                      'K': 0.41,\n",
    "                      'M': 0.35,\n",
    "                      'L': 0.20,\n",
    "                      'T': 0.20,\n",
    "                      }\n",
    "\n",
    "# mass ratio can be approximated by a uniform\n",
    "# but it may be better estimated by distribution that increases toward higher number\n",
    "# so I'll use uniform in (e - e^(x)) / (e - 1)\n",
    "massRatio = (np.e-np.e**(np.random.uniform(size=keplerstellar.shape[0]))) / (np.e-1.0)\n",
    "mp = keplerstellar['mass'].copy()\n",
    "compMass = mp * massRatio\n",
    "\n",
    "# we need to companion mass to be in the stellar range, so > 0.08\n",
    "while np.any(compMass < 0.08):\n",
    "    nSmall = np.shape(compMass[compMass < 0.08])[0]\n",
    "    massRatio[compMass < 0.08] = (np.e-np.e**(np.random.uniform(size=nSmall))) / (np.e-1.0)\n",
    "    compMass[compMass < 0.08] = mp[compMass < 0.08] * massRatio[compMass < 0.08]\n"
   ]
  },
  {
   "cell_type": "markdown",
   "metadata": {},
   "source": [
    "Now we need to go through the catalog and assign a binary companion"
   ]
  },
  {
   "cell_type": "code",
   "execution_count": 6,
   "metadata": {
    "collapsed": false
   },
   "outputs": [
    {
     "name": "stderr",
     "output_type": "stream",
     "text": [
      "100%|██████████| 200038/200038 [00:06<00:00, 31537.80it/s]\n"
     ]
    }
   ],
   "source": [
    "# let's make some new columns that we'll need\n",
    "\n",
    "stype_arr = np.empty(keplerstellar.shape[0], dtype='str')\n",
    "isBinary_arr = np.empty(keplerstellar.shape[0], dtype='bool')\n",
    "\n",
    "for idx in tqdm(range(keplerstellar.shape[0])):\n",
    "    stype = get_spectral_type(keplerstellar['teff'][idx])\n",
    "    stype_arr[idx] = stype\n",
    "    isBinary_arr[idx] = binaryProbability[stype]  <  np.random.uniform()\n",
    "\n",
    "\n"
   ]
  },
  {
   "cell_type": "code",
   "execution_count": 7,
   "metadata": {
    "collapsed": false
   },
   "outputs": [],
   "source": [
    "# which star should the planet orbit\n",
    "# we'll say it's 50/50 unless the companion is an M-dwarf\n",
    "# let's say that the max mass of an M-dwarf is 0.55 Msun\n",
    "# and let's say that if it's an M-dwarf, the probability the planet's around a companion is 2.5/0.689\n",
    "\n",
    "orbitProb = np.where(compMass<=0.55, 1. - (0.689/2.5), 0.5)\n",
    "orbitsPrimary = np.where(np.random.uniform(size=keplerstellar.shape[0]) > orbitProb, True, False)\n"
   ]
  },
  {
   "cell_type": "code",
   "execution_count": 110,
   "metadata": {
    "collapsed": false
   },
   "outputs": [],
   "source": [
    "# it's a factor of a few hundred times faster to loop and add to the dataframe\n",
    "keplerstellar['stype'] = stype_arr\n",
    "keplerstellar['isBinary'] = isBinary_arr\n",
    "keplerstellar['massRatio'] = massRatio\n",
    "keplerstellar['period'] = np.e**logPeriod\n",
    "keplerstellar['compMass'] = compMass\n",
    "keplerstellar['orbitsPrimary'] = orbitsPrimary\n",
    "keplerstellar['hostMass'] = np.where((isBinary_arr & orbitsPrimary) | ~isBinary_arr, \n",
    "                                     keplerstellar.mass, compMass)\n"
   ]
  },
  {
   "cell_type": "code",
   "execution_count": 9,
   "metadata": {
    "collapsed": false
   },
   "outputs": [],
   "source": [
    "# now let's make an array that excludes things we don't want\n",
    "q = keplerstellar[allquarters & isGoodData]"
   ]
  },
  {
   "cell_type": "markdown",
   "metadata": {},
   "source": [
    "OK, now we need to start putting planets around these stars. We're going to use Fressin's catalog for all stars except M-dwarfs and use Dressing's number for M-dwarfs. \n",
    "\n",
    "For the time being we are going to make the assumption that every star has a planet"
   ]
  },
  {
   "cell_type": "code",
   "execution_count": 109,
   "metadata": {
    "collapsed": false
   },
   "outputs": [],
   "source": [
    "#some parameters we will need later\n",
    "\n",
    "# let's make them all transit\n",
    "# q.loc[:,'cosi'] = pd.Series(np.random.random(size=q.shape[0]),name='cosi')\n",
    "\n",
    "q.loc[:,'noise_level'] = sm_funcs.kepler_noise_6h(q.loc[:,'kepmag']) * np.sqrt(6)\n"
   ]
  },
  {
   "cell_type": "code",
   "execution_count": 11,
   "metadata": {
    "collapsed": false
   },
   "outputs": [],
   "source": [
    "# add planets\n",
    "# first draw planets\n",
    "\n",
    "mdwarfplanets = sm_funcs.Dressing15_select(q.shape[0])\n",
    "otherplanets = sm_funcs.Fressin13_select(q.shape[0])\n",
    "\n",
    "# then assign either a planet from Fressin or Dressing\n",
    "[planetRadius, planetPeriod] = np.where((q.stype == 'M') | ((q.compMass <=0.55) & \n",
    "                                                            q.isBinary), mdwarfplanets, otherplanets )\n",
    "\n"
   ]
  },
  {
   "cell_type": "code",
   "execution_count": 12,
   "metadata": {
    "collapsed": false
   },
   "outputs": [],
   "source": [
    "q.loc[:,'planetRadius'] = planetRadius\n",
    "q.loc[:,'planetPeriod'] = planetPeriod\n",
    "q.loc[:,'rprs'] = sm_funcs.get_rprs(planetRadius, q.hostMass)\n",
    "q.loc[:, 'ars'] = sm_funcs.per2ars(planetPeriod, q.mass, q.hostMass)\n",
    "\n",
    "# need a fudge here to stop a/r* < 1\n",
    "q.loc[:, 'ars'] = np.where(q.loc[:, 'ars'] < 1.0, 1.01, q.loc[:, 'ars'])\n",
    "\n",
    "q.loc[:, 'duration'] = sm_funcs.get_duration(planetPeriod, q.ars, rprs=q.rprs)"
   ]
  },
  {
   "cell_type": "code",
   "execution_count": 241,
   "metadata": {
    "collapsed": false
   },
   "outputs": [],
   "source": [
    "q.loc[:,'duration_correction'] = np.sqrt(q.duration * 24.) # correction for CDPP because transit dur != 1 hour\n",
    "q.loc[:,'transit_depth_undiluted']  = sm_funcs.get_transit_depth(q.planetRadius, q.st_radius) * 1.E-6"
   ]
  },
  {
   "cell_type": "code",
   "execution_count": 320,
   "metadata": {
    "collapsed": false
   },
   "outputs": [
    {
     "name": "stderr",
     "output_type": "stream",
     "text": [
      "/Users/tom/.virtualenvs/p2/lib/python2.7/site-packages/ipykernel/__main__.py:24: SettingWithCopyWarning: \n",
      "A value is trying to be set on a copy of a slice from a DataFrame.\n",
      "Try using .loc[row_indexer,col_indexer] = value instead\n",
      "\n",
      "See the caveats in the documentation: http://pandas.pydata.org/pandas-docs/stable/indexing.html#indexing-view-versus-copy\n"
     ]
    }
   ],
   "source": [
    "# we need to go from undiluted transit depth to diluted transit depth\n",
    "# so we have deltaF / F1 and we want deltaF/(F1+F2)\n",
    "\n",
    "# we should do this calculation in magnitude\n",
    "# so take the kepmag and estimate the kepmag for a companion\n",
    "\n",
    "m = np.isfinite(mamajek.loc[:,'Mr']) & np.isfinite(mamajek.loc[:,'Msun'])\n",
    "\n",
    "Mr_primary = np.interp(q.loc[:,'mass'],\n",
    "                       mamajek.loc[:,'Msun'][m][::-1], mamajek.loc[:,'Mr'][m][::-1], np.nan, np.nan)\n",
    "Mr_companion = np.interp(q.loc[:,'compMass'],\n",
    "                       mamajek.loc[:,'Msun'][m][::-1], mamajek.loc[:,'Mr'][m][::-1], np.nan, np.nan)\n",
    "\n",
    "# x1 = 10**(-(Mr_companion-Mr_primary)/2.5)\n",
    "# x2 = 10**(-(Mr_primary-Mr_companion)/2.5)\n",
    "# dil = np.where(q.orbitsPrimary, 1./(1.+x1), 1./(1.+x2))\n",
    "# q['dil'] = dil\n",
    "# tm = q.loc[:,'transit_depth_undiluted']\n",
    "# q['transit_depth_diluted'] = tm+(1.0-tm)*dil\n",
    "q['transit_depth_diluted'] = q.transit_depth_undiluted / 10**((Mr_companion - Mr_primary) / -2.5)"
   ]
  },
  {
   "cell_type": "code",
   "execution_count": 321,
   "metadata": {
    "collapsed": false
   },
   "outputs": [
    {
     "data": {
      "text/plain": [
       "<matplotlib.collections.PathCollection at 0x139653310>"
      ]
     },
     "execution_count": 321,
     "metadata": {},
     "output_type": "execute_result"
    },
    {
     "data": {
      "image/png": "[encoded data removed]",
      "text/plain": [
       "<matplotlib.figure.Figure at 0x13a725850>"
      ]
     },
     "metadata": {},
     "output_type": "display_data"
    }
   ],
   "source": [
    "# plt.scatter(q.transit_depth_undiluted * 1.E6, q.transit_depth_diluted, \n",
    "#             c=q.teff, cmap='spectral',vmax=8000, s=1)\n",
    "# plt.colorbar()\n",
    "# # plt.xlim(0,1000)\n",
    "\n",
    "# plt.scatter(Mr_primary-Mr_companion, (1.0-tm)*dil*tm)\n",
    "# plt.scatter(Mr_primary-Mr_companion, tm)\n",
    "#plt.scatter(Mr_companion-Mr_primary, 1 / (1+x1), s=2)\n",
    "# plt.xlim(0,5)\n",
    "# plt.ylim(0,100)\n",
    "\n",
    "plt.scatter(dil, ((1.0-tm)*dil*tm) /tm)\n",
    "# plt.scatter(Mr_primary-Mr_companion, tm)"
   ]
  },
  {
   "cell_type": "code",
   "execution_count": 322,
   "metadata": {
    "collapsed": false
   },
   "outputs": [
    {
     "data": {
      "image/png": "[encoded data removed]",
      "text/plain": [
       "<matplotlib.figure.Figure at 0x13d8aed90>"
      ]
     },
     "metadata": {},
     "output_type": "display_data"
    }
   ],
   "source": [
    "z = plt.hist(Mr_primary, )\n",
    "z = plt.hist(Mr_companion, )\n",
    "z = plt.hist(Mr_primary - Mr_companion, )"
   ]
  },
  {
   "cell_type": "code",
   "execution_count": 323,
   "metadata": {
    "collapsed": false
   },
   "outputs": [
    {
     "data": {
      "text/plain": [
       "(array([  4.99000000e+02,   7.69700000e+03,   4.73200000e+04,\n",
       "          3.75770000e+04,   7.03900000e+03,   1.65800000e+03,\n",
       "          8.79000000e+02,   2.37000000e+02,   5.50000000e+01,\n",
       "          3.60000000e+01]),\n",
       " array([ 0.094 ,  0.3926,  0.6912,  0.9898,  1.2884,  1.587 ,  1.8856,\n",
       "         2.1842,  2.4828,  2.7814,  3.08  ]),\n",
       " <a list of 10 Patch objects>)"
      ]
     },
     "execution_count": 323,
     "metadata": {},
     "output_type": "execute_result"
    },
    {
     "data": {
      "image/png": "[encoded data removed]",
      "text/plain": [
       "<matplotlib.figure.Figure at 0x13d8543d0>"
      ]
     },
     "metadata": {},
     "output_type": "display_data"
    }
   ],
   "source": [
    "z = plt.hist(10**(-Mr_primary/2.5) / 10**(-Mr_companion/2.5)),#bins=np.arange(0,2000, 100))\n",
    "#z = plt.hist(10**(-Mr_companion/2.5),bins=np.arange(0,2000, 100))\n",
    "\n",
    "# plt.scatter(Mr_primary,Mr_companion)\n",
    "# plt.plot([-20.,0],[-20,0], color='red')\n",
    "\n",
    "# plt.scatter(Mr_primary, Mr_primary-Mr_companion)\n",
    "plt.hist(q.compMass, alpha=0.5)\n",
    "plt.hist(q.mass, alpha=0.5)"
   ]
  },
  {
   "cell_type": "code",
   "execution_count": 324,
   "metadata": {
    "collapsed": false
   },
   "outputs": [],
   "source": [
    "# finally, we need to build a detection model\n",
    "# the detection can be a simple SNR threshold, let's pick 8 sigma\n",
    "# so the probability of detection is if\n",
    "# SNR > 8\n",
    "# SNR = sqrt(ntransits) * duration_correction * transit_depth / noise\n",
    "keplerduration = 4.0 * 365.\n",
    "ntransits = np.around(keplerduration / q.planetPeriod )\n",
    "sigma_threshold = 8.0\n",
    "\n",
    "needed_for_detection_diluted = (q.transit_depth_diluted * 1.E6 * q.duration_correction *\n",
    "                    np.sqrt(ntransits)) / sigma_threshold\n",
    "detected_diluted = q.noise_level < needed_for_detection_diluted\n",
    "\n",
    "needed_for_detection_undiluted = (q.transit_depth_undiluted * 1.E6 * q.duration_correction *\n",
    "                    np.sqrt(ntransits)) / sigma_threshold\n",
    "detected_undiluted = q.noise_level < needed_for_detection_undiluted"
   ]
  },
  {
   "cell_type": "code",
   "execution_count": 325,
   "metadata": {
    "collapsed": false
   },
   "outputs": [
    {
     "name": "stdout",
     "output_type": "stream",
     "text": [
      "(25854,)\n",
      "(33869,)\n"
     ]
    }
   ],
   "source": [
    "print(np.nonzero(detected_diluted)[0].shape)\n",
    "print(np.nonzero(detected_undiluted[q.orbitsPrimary])[0].shape)"
   ]
  },
  {
   "cell_type": "code",
   "execution_count": 379,
   "metadata": {
    "collapsed": false
   },
   "outputs": [
    {
     "data": {
      "image/png": "[encoded data removed]",
      "text/plain": [
       "<matplotlib.figure.Figure at 0x1484d4790>"
      ]
     },
     "metadata": {},
     "output_type": "display_data"
    }
   ],
   "source": [
    "# !!!! this needs to be changed\n",
    "# becuse I have assumed that stellar radius == stellar mass\n",
    "# I need to calculate a radius of the companion\n",
    "\n",
    "fig = plt.figure(figsize=[12,9])\n",
    "\n",
    "\n",
    "plt.hist(np.sqrt(q.transit_depth_undiluted)[detected_undiluted][q.orbitsPrimary] * \n",
    "         q.mass[detected_undiluted][q.orbitsPrimary] / 0.009155, \n",
    "         bins=np.arange(0,10,0.5),\n",
    "         histtype='step', lw=3, color='orange',#, normed=True\n",
    "         label='what you think your are measuring',\n",
    "        )\n",
    "plt.hist(np.sqrt(q.transit_depth_diluted)[detected_diluted] * q.mass[detected_diluted] / 0.009155, \n",
    "         bins=np.arange(0,10,0.5), \n",
    "         histtype='step', lw=3, color='purple',#, normed=True\n",
    "         label='what you are actually measuring',\n",
    "        )\n",
    "\n",
    "plt.hist(np.sqrt(q.transit_depth_undiluted)[detected_undiluted] * q.hostMass[detected_undiluted] / 0.009155, \n",
    "         bins=np.arange(0,10,0.5), \n",
    "         histtype='step', lw=3, color='green',#, normed=True\n",
    "         label='True',\n",
    "        )\n",
    "\n",
    "plt.legend()\n",
    "plt.xlabel('Planet Radius (R$_\\oplus$)')\n",
    "plt.ylabel('Relative planet number')\n",
    "\n",
    "plt.minorticks_on()"
   ]
  },
  {
   "cell_type": "code",
   "execution_count": 351,
   "metadata": {
    "collapsed": false,
    "scrolled": true
   },
   "outputs": [
    {
     "data": {
      "text/plain": [
       "(array([  3624.,  15779.,   7702.,   4260.,   1156.,    320.,    185.,\n",
       "            90.,     91.]),\n",
       " array([0, 1, 2, 3, 4, 5, 6, 7, 8, 9]),\n",
       " <a list of 1 Patch objects>)"
      ]
     },
     "execution_count": 351,
     "metadata": {},
     "output_type": "execute_result"
    },
    {
     "data": {
      "image/png": "[encoded data removed]",
      "text/plain": [
       "<matplotlib.figure.Figure at 0x1379a9750>"
      ]
     },
     "metadata": {},
     "output_type": "display_data"
    }
   ],
   "source": [
    "plt.hist(np.sqrt(q.transit_depth_diluted)[detected_diluted] * q.mass[detected_diluted] / 0.009155, \n",
    "         bins=np.arange(0,10,1), \n",
    "         histtype='step', lw=3, color='purple',#, normed=True\n",
    "         label='including binaries',\n",
    "        )\n",
    "plt.hist(np.sqrt(q.transit_depth_undiluted)[detected_undiluted][q.orbitsPrimary] * \n",
    "         q.hostMass[detected_undiluted][q.orbitsPrimary] / 0.009155, \n",
    "         bins=np.arange(0,10,1),\n",
    "         histtype='step', lw=3, color='orange',#, normed=True\n",
    "         label='no binaries',\n",
    "        )"
   ]
  },
  {
   "cell_type": "code",
   "execution_count": 377,
   "metadata": {
    "collapsed": false
   },
   "outputs": [
    {
     "name": "stdout",
     "output_type": "stream",
     "text": [
      "0.677514538075\n"
     ]
    },
    {
     "data": {
      "image/png": "[encoded data removed]",
      "text/plain": [
       "<matplotlib.figure.Figure at 0x146d04b50>"
      ]
     },
     "metadata": {},
     "output_type": "display_data"
    }
   ],
   "source": [
    "o1 = np.sqrt(q.transit_depth_diluted)[detected_diluted] * q.mass[detected_diluted] / 0.009155\n",
    "o2 = np.sqrt(q.transit_depth_undiluted)[detected_diluted] * q.hostMass[detected_diluted] / 0.009155\n",
    "\n",
    "plt.hist(o1/o2, histtype='step',  cumulative=True, bins=np.arange(0,1,0.01), normed=True, lw=3)\n",
    "plt.grid()\n",
    "plt.xlabel('Ratio to Observed to True Planet Radius')\n",
    "plt.ylabel('Cumulative Distribution')\n",
    "\n",
    "print(np.mean((o2-o1)/o1))"
   ]
  },
  {
   "cell_type": "code",
   "execution_count": 357,
   "metadata": {
    "collapsed": false
   },
   "outputs": [
    {
     "data": {
      "text/plain": [
       "(array([  7.33510000e+04,   6.03400000e+03,   7.17000000e+02,\n",
       "          4.21000000e+02,   3.19000000e+02,   1.86000000e+02,\n",
       "          8.50000000e+01,   2.30000000e+01,   6.00000000e+00,\n",
       "          3.00000000e+00]),\n",
       " array([ 0.00242313,  0.03879421,  0.07516528,  0.11153636,  0.14790743,\n",
       "         0.18427851,  0.22064958,  0.25702066,  0.29339173,  0.32976281,\n",
       "         0.36613388]),\n",
       " <a list of 1 Patch objects>)"
      ]
     },
     "execution_count": 357,
     "metadata": {},
     "output_type": "execute_result"
    },
    {
     "data": {
      "image/png": "[encoded data removed]",
      "text/plain": [
       "<matplotlib.figure.Figure at 0x146e5e750>"
      ]
     },
     "metadata": {},
     "output_type": "display_data"
    }
   ],
   "source": [
    "plt.hist(np.sqrt(q.transit_depth_undiluted)[detected_diluted], histtype='step', lw=2)\n",
    "plt.hist(np.sqrt(q.transit_depth_undiluted)[detected_undiluted], histtype='step', lw=2)"
   ]
  },
  {
   "cell_type": "code",
   "execution_count": 187,
   "metadata": {
    "collapsed": false
   },
   "outputs": [
    {
     "data": {
      "text/plain": [
       "0       0.042892\n",
       "1       1.106945\n",
       "3       0.702594\n",
       "4     213.383318\n",
       "5       2.068337\n",
       "6       0.115882\n",
       "9      44.874840\n",
       "10    174.251538\n",
       "11      5.941471\n",
       "12    100.871361\n",
       "Name: transit_depth_diluted, dtype: float64"
      ]
     },
     "execution_count": 187,
     "metadata": {},
     "output_type": "execute_result"
    }
   ],
   "source": [
    "q.transit_depth_diluted[0:10]#[detected_undiluted][q.orbitsPrimary][0:10]"
   ]
  },
  {
   "cell_type": "code",
   "execution_count": 188,
   "metadata": {
    "collapsed": false
   },
   "outputs": [
    {
     "data": {
      "text/plain": [
       "0       453.805536\n",
       "1       292.094179\n",
       "3       127.400870\n",
       "4       222.073180\n",
       "5       145.948643\n",
       "6       482.044423\n",
       "9       277.765225\n",
       "10      759.006530\n",
       "11      348.711882\n",
       "12    11973.707021\n",
       "Name: transit_depth_undiluted, dtype: float64"
      ]
     },
     "execution_count": 188,
     "metadata": {},
     "output_type": "execute_result"
    }
   ],
   "source": [
    "q.transit_depth_undiluted[0:10]#[detected_undiluted][q.orbitsPrimary][0:10]"
   ]
  },
  {
   "cell_type": "code",
   "execution_count": 319,
   "metadata": {
    "collapsed": false
   },
   "outputs": [
    {
     "data": {
      "text/plain": [
       "[<matplotlib.lines.Line2D at 0x1360bf710>]"
      ]
     },
     "execution_count": 319,
     "metadata": {},
     "output_type": "execute_result"
    },
    {
     "data": {
      "image/png": "[encoded data removed]",
      "text/plain": [
       "<matplotlib.figure.Figure at 0x134957d50>"
      ]
     },
     "metadata": {},
     "output_type": "display_data"
    }
   ],
   "source": [
    "plt.scatter(q.transit_depth_undiluted, q.transit_depth_undiluted / 10**((Mr_companion - Mr_primary) / -2.5))\n",
    "plt.plot([0,0.1],[0,0.1])"
   ]
  },
  {
   "cell_type": "code",
   "execution_count": 390,
   "metadata": {
    "collapsed": false
   },
   "outputs": [
    {
     "data": {
      "text/plain": [
       "(array([  5523.,  12838.,   4583.,   1571.,    390.,    218.,    158.,\n",
       "           103.,     86.]),\n",
       " array([0, 1, 2, 3, 4, 5, 6, 7, 8, 9]),\n",
       " <a list of 1 Patch objects>)"
      ]
     },
     "execution_count": 390,
     "metadata": {},
     "output_type": "execute_result"
    },
    {
     "data": {
      "image/png": "[encoded data removed]",
      "text/plain": [
       "<matplotlib.figure.Figure at 0x14a5d7bd0>"
      ]
     },
     "metadata": {},
     "output_type": "display_data"
    }
   ],
   "source": [
    "plt.hist(q.planetRadius, bins=np.arange(0,10,1), histtype='step', lw=2)\n",
    "\n",
    "plt.hist(np.sqrt(q.transit_depth_undiluted)[detected_undiluted][q.orbitsPrimary] * q.hostMass[detected_undiluted][q.orbitsPrimary] / 0.009155,\n",
    "        bins=np.arange(0,10,1), histtype='step', lw=2 )\n",
    "\n",
    "plt.hist(np.sqrt(q.transit_depth_diluted)[detected_diluted] * q.mass[detected_diluted] / 0.009155,\n",
    "        bins=np.arange(0,10,1), histtype='step', lw=2 )"
   ]
  },
  {
   "cell_type": "code",
   "execution_count": 394,
   "metadata": {
    "collapsed": false
   },
   "outputs": [
    {
     "data": {
      "text/plain": [
       "(array([  4.99000000e+02,   7.69700000e+03,   4.73200000e+04,\n",
       "          3.75770000e+04,   7.03900000e+03,   1.65800000e+03,\n",
       "          8.79000000e+02,   2.37000000e+02,   5.50000000e+01,\n",
       "          3.60000000e+01]),\n",
       " array([ 0.094 ,  0.3926,  0.6912,  0.9898,  1.2884,  1.587 ,  1.8856,\n",
       "         2.1842,  2.4828,  2.7814,  3.08  ]),\n",
       " <a list of 1 Patch objects>)"
      ]
     },
     "execution_count": 394,
     "metadata": {},
     "output_type": "execute_result"
    },
    {
     "data": {
      "image/png": "[encoded data removed]",
      "text/plain": [
       "<matplotlib.figure.Figure at 0x149baacd0>"
      ]
     },
     "metadata": {},
     "output_type": "display_data"
    }
   ],
   "source": [
    "plt.hist(np.r_[q.mass,q.compMass], histtype='step', lw=2 )\n",
    "plt.hist(q.mass, histtype='step', lw=2 )"
   ]
  },
  {
   "cell_type": "code",
   "execution_count": null,
   "metadata": {
    "collapsed": true
   },
   "outputs": [],
   "source": []
  }
 ],
 "metadata": {
  "kernelspec": {
   "display_name": "Python 2",
   "language": "python",
   "name": "python2"
  },
  "language_info": {
   "codemirror_mode": {
    "name": "ipython",
    "version": 2
   },
   "file_extension": ".py",
   "mimetype": "text/x-python",
   "name": "python",
   "nbconvert_exporter": "python",
   "pygments_lexer": "ipython2",
   "version": "2.7.11"
  }
 },
 "nbformat": 4,
 "nbformat_minor": 0
}
